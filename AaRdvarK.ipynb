{
 "cells": [
  {
   "cell_type": "code",
   "execution_count": 1,
   "metadata": {},
   "outputs": [
    {
     "ename": "NameError",
     "evalue": "name 'xl' is not defined",
     "output_type": "error",
     "traceback": [
      "\u001b[0;31m---------------------------------------------------------------------------\u001b[0m",
      "\u001b[0;31mNameError\u001b[0m                                 Traceback (most recent call last)",
      "\u001b[0;32m<ipython-input-1-c25078bf8453>\u001b[0m in \u001b[0;36m<module>\u001b[0;34m\u001b[0m\n\u001b[1;32m     10\u001b[0m \u001b[0mx2\u001b[0m \u001b[0;34m=\u001b[0m \u001b[0mpd\u001b[0m\u001b[0;34m.\u001b[0m\u001b[0mread_excel\u001b[0m\u001b[0;34m(\u001b[0m\u001b[0mfile\u001b[0m\u001b[0;34m,\u001b[0m\u001b[0msheet_name\u001b[0m\u001b[0;34m=\u001b[0m\u001b[0;34m'ARK_Trade'\u001b[0m\u001b[0;34m,\u001b[0m\u001b[0mskiprows\u001b[0m\u001b[0;34m=\u001b[0m\u001b[0mrange\u001b[0m\u001b[0;34m(\u001b[0m\u001b[0;36m1\u001b[0m\u001b[0;34m,\u001b[0m\u001b[0;36m3\u001b[0m\u001b[0;34m)\u001b[0m\u001b[0;34m,\u001b[0m\u001b[0mheader\u001b[0m\u001b[0;34m=\u001b[0m\u001b[0;36m1\u001b[0m\u001b[0;34m,\u001b[0m\u001b[0musecols\u001b[0m \u001b[0;34m=\u001b[0m \u001b[0;34m\"A:H\"\u001b[0m\u001b[0;34m)\u001b[0m\u001b[0;34m\u001b[0m\u001b[0;34m\u001b[0m\u001b[0m\n\u001b[1;32m     11\u001b[0m \u001b[0;31m# Print the sheet names\u001b[0m\u001b[0;34m\u001b[0m\u001b[0;34m\u001b[0m\u001b[0;34m\u001b[0m\u001b[0m\n\u001b[0;32m---> 12\u001b[0;31m \u001b[0mprint\u001b[0m\u001b[0;34m(\u001b[0m\u001b[0mxl\u001b[0m\u001b[0;34m.\u001b[0m\u001b[0msheet_names\u001b[0m\u001b[0;34m)\u001b[0m\u001b[0;34m\u001b[0m\u001b[0;34m\u001b[0m\u001b[0m\n\u001b[0m",
      "\u001b[0;31mNameError\u001b[0m: name 'xl' is not defined"
     ]
    }
   ],
   "source": [
    "# Import pandas\n",
    "import pandas as pd\n",
    "\n",
    "# Assign spreadsheet filename to `file`\n",
    "# Make sure the file is an xlsx\n",
    "file = 'ARK_Trade_12302020_0630PM_EST_5fecfc8bb27c4.xlsx'\n",
    "\n",
    "# Load spreadsheet\n",
    "#xl = pd.ExcelFile(file)\n",
    "x2 = pd.read_excel(file,sheet_name='ARK_Trade',skiprows=range(1,3),header=1,usecols = \"A:H\")\n",
    "# Print the sheet names\n",
    "print(xl.sheet_names)\n"
   ]
  },
  {
   "cell_type": "code",
   "execution_count": null,
   "metadata": {},
   "outputs": [],
   "source": [
    "print(xl)"
   ]
  },
  {
   "cell_type": "code",
   "execution_count": null,
   "metadata": {},
   "outputs": [],
   "source": [
    "display(x2)"
   ]
  },
  {
   "cell_type": "code",
   "execution_count": 2,
   "metadata": {},
   "outputs": [],
   "source": [
    "# For every row in the dataframe, create a Key-Value pair and then output it as a JSON\n",
    "import json\n",
    "\n",
    "json_array =[]\n",
    "for index, row in x2.iterrows():\n",
    "    data = {}\n",
    "\n",
    "    data['fund']=row[0]\n",
    "    data['date']=row[1]\n",
    "    data['direction']=row[2]\n",
    "    data['ticker']=row[3]\n",
    "    data['cusip']=row[4]\n",
    "    data['name']=row[5]\n",
    "    data['shares']=row[6]\n",
    "    data['percent_of_etf']=row[7]\n",
    "    json_data = json.dumps(data)\n",
    "    \n",
    "    json_array.append(json_data)\n",
    "    json_docs = json.load(json_file)"
   ]
  },
  {
   "cell_type": "code",
   "execution_count": 3,
   "metadata": {},
   "outputs": [
    {
     "name": "stdout",
     "output_type": "stream",
     "text": [
      "{\"fund\": \"ARKF\", \"date\": \"2020-12-30\", \"direction\": \"Buy\", \"ticker\": \"KSPI\", \"cusip\": \"48581R205\", \"name\": \"JSC KASPI.KZ GDR-REG S\", \"shares\": 1781, \"percent_of_etf\": 0.01}\n",
      "{\"fund\": \"ARKF\", \"date\": \"2020-12-30\", \"direction\": \"Buy\", \"ticker\": \"TCS\", \"cusip\": \"87238U203\", \"name\": \"TCS GROUP HOLDING -REG S\", \"shares\": 23134, \"percent_of_etf\": 0.04}\n",
      "{\"fund\": \"ARKG\", \"date\": \"2020-12-30\", \"direction\": \"Buy\", \"ticker\": \"NVS\", \"cusip\": \"66987V109\", \"name\": \"NOVARTIS AG-SPONSORED ADR\", \"shares\": 14273, \"percent_of_etf\": 0.02}\n",
      "{\"fund\": \"ARKG\", \"date\": \"2020-12-30\", \"direction\": \"Buy\", \"ticker\": \"RHHBY\", \"cusip\": 771195104, \"name\": \"ROCHE HOLDINGS LTD-SPONS ADR\", \"shares\": 225178, \"percent_of_etf\": 0.13}\n",
      "{\"fund\": \"ARKG\", \"date\": \"2020-12-30\", \"direction\": \"Buy\", \"ticker\": \"RPTX\", \"cusip\": 760273102, \"name\": \"REPARE THERAPEUTICS INC\", \"shares\": 17290, \"percent_of_etf\": 0.01}\n",
      "{\"fund\": \"ARKG\", \"date\": \"2020-12-30\", \"direction\": \"Buy\", \"ticker\": \"TAK\", \"cusip\": 874060205, \"name\": \"TAKEDA PHARMACEUTIC-SP ADR\", \"shares\": 158600, \"percent_of_etf\": 0.04}\n",
      "{\"fund\": \"ARKK\", \"date\": \"2020-12-30\", \"direction\": \"Buy\", \"ticker\": \"NTDOY\", \"cusip\": 654445303, \"name\": \"NINTENDO CO LTD-UNSPONS ADR\", \"shares\": 46444, \"percent_of_etf\": 0.02}\n",
      "{\"fund\": \"ARKK\", \"date\": \"2020-12-30\", \"direction\": \"Buy\", \"ticker\": \"BIDU\", \"cusip\": \"056752108\", \"name\": \"BAIDU INC - SPON ADR\", \"shares\": 641772, \"percent_of_etf\": 0.77}\n",
      "{\"fund\": \"ARKK\", \"date\": \"2020-12-30\", \"direction\": \"Sell\", \"ticker\": \"TSLA\", \"cusip\": \"88160R101\", \"name\": \"TESLA MOTORS INC\", \"shares\": 129827, \"percent_of_etf\": 0.5}\n",
      "{\"fund\": \"ARKK\", \"date\": \"2020-12-30\", \"direction\": \"Sell\", \"ticker\": \"TSM\", \"cusip\": 874039100, \"name\": \"TAIWAN SEMICONDUCTOR-SP ADR\", \"shares\": 535882, \"percent_of_etf\": 0.33}\n",
      "{\"fund\": \"ARKK\", \"date\": \"2020-12-30\", \"direction\": \"Sell\", \"ticker\": \"XONE\", \"cusip\": 302104104, \"name\": \"EXONE CO/THE\", \"shares\": 195000, \"percent_of_etf\": 0.01}\n",
      "{\"fund\": \"ARKW\", \"date\": \"2020-12-30\", \"direction\": \"Buy\", \"ticker\": \"BIDU\", \"cusip\": \"056752108\", \"name\": \"BAIDU INC - SPON ADR\", \"shares\": 184557, \"percent_of_etf\": 0.75}\n",
      "{\"fund\": \"ARKW\", \"date\": \"2020-12-30\", \"direction\": \"Sell\", \"ticker\": \"TSLA\", \"cusip\": \"88160R101\", \"name\": \"TESLA MOTORS INC\", \"shares\": 19139, \"percent_of_etf\": 0.25}\n",
      "{\"fund\": \"ARKW\", \"date\": \"2020-12-30\", \"direction\": \"Sell\", \"ticker\": \"TSM\", \"cusip\": 874039100, \"name\": \"TAIWAN SEMICONDUCTOR-SP ADR\", \"shares\": 75242, \"percent_of_etf\": 0.15}\n",
      "{\"fund\": \"ARKW\", \"date\": \"2020-12-30\", \"direction\": \"Sell\", \"ticker\": \"TWLO\", \"cusip\": \"90138F102\", \"name\": \"TWILIO INC - A\", \"shares\": 53520, \"percent_of_etf\": 0.35}\n"
     ]
    }
   ],
   "source": [
    "for item in json_array:\n",
    "    print(item)"
   ]
  },
  {
   "cell_type": "code",
   "execution_count": 15,
   "metadata": {},
   "outputs": [],
   "source": [
    "# Send the Data to Elasticsearch\n",
    "\n",
    "from elasticsearch import Elasticsearch\n",
    "\n",
    "# es = Elasticsearch(HOST='http://192.168.0.160', PORT='9200')\n",
    "es = Elasticsearch(['http://192.168.0.160:9200'])"
   ]
  },
  {
   "cell_type": "code",
   "execution_count": 16,
   "metadata": {},
   "outputs": [
    {
     "data": {
      "text/plain": [
       "{'acknowledged': True, 'shards_acknowledged': True, 'index': 'ark'}"
      ]
     },
     "execution_count": 16,
     "metadata": {},
     "output_type": "execute_result"
    }
   ],
   "source": [
    "es.indices.create(index='ark')"
   ]
  },
  {
   "cell_type": "code",
   "execution_count": 17,
   "metadata": {},
   "outputs": [
    {
     "data": {
      "text/plain": [
       "True"
      ]
     },
     "execution_count": 17,
     "metadata": {},
     "output_type": "execute_result"
    }
   ],
   "source": [
    "es.indices.exists(index='ark')"
   ]
  },
  {
   "cell_type": "code",
   "execution_count": 19,
   "metadata": {},
   "outputs": [
    {
     "name": "stderr",
     "output_type": "stream",
     "text": [
      "/Users/braveenth/opt/anaconda3/lib/python3.8/site-packages/elasticsearch/connection/base.py:193: ElasticsearchDeprecationWarning: [types removal] Specifying types in document index requests is deprecated, use the typeless endpoints instead (/{index}/_doc/{id}, /{index}/_doc, or /{index}/_create/{id}).\n",
      "  warnings.warn(message, category=ElasticsearchDeprecationWarning)\n"
     ]
    }
   ],
   "source": [
    "i = 0\n",
    "for item in json_array:\n",
    "    #es.bulk('ark', ES_TYPE, json_docs)\n",
    "    #print(item)\n",
    "    es.index(index='ark', doc_type='Trade', id=i, body=item)\n",
    "    i += 1"
   ]
  },
  {
   "cell_type": "code",
   "execution_count": null,
   "metadata": {},
   "outputs": [],
   "source": []
  }
 ],
 "metadata": {
  "kernelspec": {
   "display_name": "Python 3",
   "language": "python",
   "name": "python3"
  }
 },
 "nbformat": 4,
 "nbformat_minor": 4
}
